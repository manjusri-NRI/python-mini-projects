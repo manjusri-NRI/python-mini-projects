{
 "cells": [
  {
   "cell_type": "code",
   "execution_count": 2,
   "metadata": {},
   "outputs": [
    {
     "name": "stdout",
     "output_type": "stream",
     "text": [
      "In ascending order: [1, 5, 10, 15, 19, 21]\n"
     ]
    }
   ],
   "source": [
    "#List of elements to sort\n",
    "l1= [5, 21, 19, 1, 15, 10]\n",
    "l2= []\n",
    "\n",
    "# Loop to sort the elements\n",
    "for i in range(len(l1)):\n",
    "    \n",
    "    min_val = l1[0]\n",
    "    for j in range(1, len(l1)):\n",
    "        if l1[j] < min_val:\n",
    "            min_val = l1[j]\n",
    "            \n",
    "    l2.append(min_val)\n",
    "    \n",
    "    l1.remove(min_val)\n",
    "    \n",
    "print(\"In ascending order:\", l2)"
   ]
  }
 ],
 "metadata": {
  "kernelspec": {
   "display_name": "Python 3",
   "language": "python",
   "name": "python3"
  },
  "language_info": {
   "codemirror_mode": {
    "name": "ipython",
    "version": 3
   },
   "file_extension": ".py",
   "mimetype": "text/x-python",
   "name": "python",
   "nbconvert_exporter": "python",
   "pygments_lexer": "ipython3",
   "version": "3.9.0"
  }
 },
 "nbformat": 4,
 "nbformat_minor": 2
}
