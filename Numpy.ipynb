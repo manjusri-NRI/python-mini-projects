{
  "nbformat": 4,
  "nbformat_minor": 0,
  "metadata": {
    "colab": {
      "provenance": [],
      "authorship_tag": "ABX9TyMNiPiCKx/S05Y95rDnc8g8",
      "include_colab_link": true
    },
    "kernelspec": {
      "name": "python3",
      "display_name": "Python 3"
    },
    "language_info": {
      "name": "python"
    }
  },
  "cells": [
    {
      "cell_type": "markdown",
      "metadata": {
        "id": "view-in-github",
        "colab_type": "text"
      },
      "source": [
        "<a href=\"https://colab.research.google.com/github/manjusri-NRI/python-mini-projects/blob/main/Numpy.ipynb\" target=\"_parent\"><img src=\"https://colab.research.google.com/assets/colab-badge.svg\" alt=\"Open In Colab\"/></a>"
      ]
    },
    {
      "cell_type": "code",
      "execution_count": null,
      "metadata": {
        "id": "ki5N5HiTtUzD"
      },
      "outputs": [],
      "source": [
        "\n",
        "#Numpy-Numeric Python\n",
        "# most powerful package-library\n",
        "# Numpy-dimemsions\n",
        "#A-one dimension array\n",
        "#[A,B]||[A\n",
        "        #B]-Two dimensional Array-row||column\n",
        "#Three Dimensional\n",
        "#Array -staring,manipulating,similar Data type\n",
        "#Faster than any mathematical function A\n",
        "#memory efficiency\n",
        "#support multi dimensional arrays\n",
        "#speed(Numpy operation) > speed(Lists operations)\n",
        "#size(Numpy operation) < size(Lists operations)\n",
        "#Memory optimization(Numpy) > Memory optimization(List operations)"
      ]
    },
    {
      "cell_type": "code",
      "source": [
        "#Install numpy - pipe install numpy // pip install numpy"
      ],
      "metadata": {
        "id": "fXq4NGDP_lY1"
      },
      "execution_count": null,
      "outputs": []
    },
    {
      "cell_type": "code",
      "source": [
        "import numpy as np"
      ],
      "metadata": {
        "id": "-01ydhCSwDr1"
      },
      "execution_count": null,
      "outputs": []
    },
    {
      "cell_type": "code",
      "source": [
        "# create a numpy array\n",
        "# 1D array\n",
        "\n",
        "arr1D = np.array([1,2,3,4,5])\n",
        "print(arr1D)"
      ],
      "metadata": {
        "colab": {
          "base_uri": "https://localhost:8080/"
        },
        "id": "My_HovllwJTe",
        "outputId": "417890ea-ea53-491f-b61c-256f285bc6cd"
      },
      "execution_count": null,
      "outputs": [
        {
          "output_type": "stream",
          "name": "stdout",
          "text": [
            "[1 2 3 4 5]\n"
          ]
        }
      ]
    },
    {
      "cell_type": "code",
      "source": [
        "#creating 2D array -Matrix\n",
        "arr2D = np.array([\n",
        "       [1,2,3],[4,5,6]\n",
        "])\n",
        "print(arr2D)"
      ],
      "metadata": {
        "colab": {
          "base_uri": "https://localhost:8080/"
        },
        "id": "Xlqg_lfdwyw6",
        "outputId": "111522e9-32fc-49b0-d88a-425945886bcb"
      },
      "execution_count": null,
      "outputs": [
        {
          "output_type": "stream",
          "name": "stdout",
          "text": [
            "[[1 2 3]\n",
            " [4 5 6]]\n"
          ]
        }
      ]
    },
    {
      "cell_type": "code",
      "source": [
        "allZeros = np.zeros((2,3))\n",
        "print(allZeros)"
      ],
      "metadata": {
        "colab": {
          "base_uri": "https://localhost:8080/"
        },
        "id": "KKmK4F0FzZzB",
        "outputId": "c0898d0a-3121-413f-8899-e860d10e5c16"
      },
      "execution_count": null,
      "outputs": [
        {
          "output_type": "stream",
          "name": "stdout",
          "text": [
            "[[0. 0. 0.]\n",
            " [0. 0. 0.]]\n"
          ]
        }
      ]
    },
    {
      "cell_type": "code",
      "source": [],
      "metadata": {
        "id": "jirzeC4A0FW-"
      },
      "execution_count": null,
      "outputs": []
    },
    {
      "cell_type": "code",
      "source": [
        "allOnes = np.ones((2,3))\n",
        "print(allOnes)"
      ],
      "metadata": {
        "colab": {
          "base_uri": "https://localhost:8080/"
        },
        "id": "xcAqrU7Pz7ci",
        "outputId": "fe684160-4943-4475-a4fa-9c09829d6429"
      },
      "execution_count": null,
      "outputs": [
        {
          "output_type": "stream",
          "name": "stdout",
          "text": [
            "[[1. 1. 1.]\n",
            " [1. 1. 1.]]\n"
          ]
        }
      ]
    },
    {
      "cell_type": "code",
      "source": [
        "allConstant = np.full((2,3),6)\n",
        "print(allConstant)"
      ],
      "metadata": {
        "colab": {
          "base_uri": "https://localhost:8080/"
        },
        "id": "mYjILkYk0J6L",
        "outputId": "2cbcee7b-73d2-44a0-e8ec-a7a77c2c0be3"
      },
      "execution_count": null,
      "outputs": [
        {
          "output_type": "stream",
          "name": "stdout",
          "text": [
            "[[6 6 6]\n",
            " [6 6 6]]\n"
          ]
        }
      ]
    },
    {
      "cell_type": "code",
      "source": [
        "identity = np.eye(4)\n",
        "print(identity)\n",
        "\n",
        "#Identity Matrix -Aii = 1 && Aij = 0\n",
        "#For all A belongs to R MxN\n",
        "#Aij -"
      ],
      "metadata": {
        "colab": {
          "base_uri": "https://localhost:8080/"
        },
        "id": "_INmHE5Q0ps_",
        "outputId": "8c0d7316-0565-4a4c-b917-98574851384a"
      },
      "execution_count": null,
      "outputs": [
        {
          "output_type": "stream",
          "name": "stdout",
          "text": [
            "[[1. 0. 0. 0.]\n",
            " [0. 1. 0. 0.]\n",
            " [0. 0. 1. 0.]\n",
            " [0. 0. 0. 1.]]\n"
          ]
        }
      ]
    },
    {
      "cell_type": "code",
      "source": [
        "# Creating random Matrices\n",
        "\n",
        "# with 0 and 1\n",
        "rand1 = np.random.rand(3,3)\n",
        "print(rand1)\n",
        "\n",
        "#between a and b\n",
        "rand2 = np.random.randint(10,20,(3,3))\n",
        "print(rand2)"
      ],
      "metadata": {
        "colab": {
          "base_uri": "https://localhost:8080/"
        },
        "id": "TWfT6bC42Z1O",
        "outputId": "03c9dca5-4e5a-49f4-804b-1787885560a4"
      },
      "execution_count": null,
      "outputs": [
        {
          "output_type": "stream",
          "name": "stdout",
          "text": [
            "[[0.59843785 0.24115723 0.90883127]\n",
            " [0.70348737 0.02687516 0.54557063]\n",
            " [0.79976588 0.96187767 0.81617252]]\n",
            "[[14 16 19]\n",
            " [14 15 14]\n",
            " [15 11 19]]\n"
          ]
        }
      ]
    },
    {
      "cell_type": "code",
      "source": [
        "# Array properties\n",
        "arr=np.array(([1,2,3,4],[2,3,4,5]))\n",
        "print(arr)\n",
        "# Shape of the array\n",
        "print(f'The shape of the array is {arr.shape}')\n",
        "# Size of array\n",
        "print(f'The size of the array is {arr.size}')\n",
        "#Datatype of array\n",
        "print(f'The Data type of the array is {arr.dtype}')\n",
        "#Dimensions of array\n",
        "print(f'The Dimension of the array is {arr.ndim}')"
      ],
      "metadata": {
        "colab": {
          "base_uri": "https://localhost:8080/"
        },
        "id": "J2yI3X5S4nuY",
        "outputId": "f1ee6883-261f-49c9-d2eb-068ed4762911"
      },
      "execution_count": null,
      "outputs": [
        {
          "output_type": "stream",
          "name": "stdout",
          "text": [
            "[[1 2 3 4]\n",
            " [2 3 4 5]]\n",
            "The shape of the array is (2, 4)\n",
            "The size of the array is 8\n",
            "The Data type of the array is int64\n",
            "The Dimension of the array is 2\n"
          ]
        }
      ]
    },
    {
      "cell_type": "code",
      "source": [
        "# Indexing and Slicing\n",
        "\n",
        "# Access the elements in 1D Array\n",
        "\n",
        "arr =np.array([1,2,3,4])\n",
        "print(arr)\n",
        "print(arr[3])\n",
        "\n",
        "# Slicing the elements\n",
        "print(arr[0:3])\n",
        "\n",
        "# Access the elements in 2D Array\n",
        "arr2 = np.array(([1,2,3],[2,3,4]))\n",
        "print(arr2)\n",
        "print(arr2[1,1])\n",
        "print(arr2[0,:])#first row with all Column1\n",
        "print(arr2[:,0])#first column with all rows"
      ],
      "metadata": {
        "colab": {
          "base_uri": "https://localhost:8080/"
        },
        "id": "Exu0a4e47w2K",
        "outputId": "0a6ea366-c517-48cd-c12c-d7e1594d99d2"
      },
      "execution_count": null,
      "outputs": [
        {
          "output_type": "stream",
          "name": "stdout",
          "text": [
            "[1 2 3 4]\n",
            "4\n",
            "[1 2 3]\n",
            "[[1 2 3]\n",
            " [2 3 4]]\n",
            "3\n",
            "[1 2 3]\n",
            "[1 2]\n"
          ]
        }
      ]
    },
    {
      "cell_type": "code",
      "source": [
        "\n",
        "\n",
        "l1 = np.arange(0,10,2)\n",
        "print(l1)"
      ],
      "metadata": {
        "colab": {
          "base_uri": "https://localhost:8080/"
        },
        "id": "jiHDBIvTBJWw",
        "outputId": "979b70f5-d876-43c0-bb9b-677630a0f561"
      },
      "execution_count": null,
      "outputs": [
        {
          "output_type": "stream",
          "name": "stdout",
          "text": [
            "[0 2 4 6 8]\n"
          ]
        }
      ]
    },
    {
      "cell_type": "code",
      "source": [
        "# Mathematical operations\n",
        "\n",
        "a=np.array([1,2,3])\n",
        "b=np.array([3,4,5])\n",
        "print(f'The sum of a and b is {a + b}')\n",
        "print(f'The diff of a and b is {a - b}')\n",
        "print(f'The product of a and b is {a * b}')\n",
        "print(f'The division of a and b is {a / b}')"
      ],
      "metadata": {
        "colab": {
          "base_uri": "https://localhost:8080/"
        },
        "id": "-bWR0t5qB8X0",
        "outputId": "2a66531a-970f-409f-8c24-68ecdef0c95f"
      },
      "execution_count": null,
      "outputs": [
        {
          "output_type": "stream",
          "name": "stdout",
          "text": [
            "The sum of a and b is [4 6 8]\n",
            "The diff of a and b is [-2 -2 -2]\n",
            "The product of a and b is [ 3  8 15]\n",
            "The division of a and b is [0.33333333 0.5        0.6       ]\n"
          ]
        }
      ]
    },
    {
      "cell_type": "code",
      "source": [
        "b1= np.array([[1,2,3],[2,3,4]])\n",
        "b2=np.array([[5,6],[7,8],[1,3]])\n",
        "\n",
        "#Dot product __ product= AB __ A m x n __ B n xp\n",
        "c = np.dot(b1,b2)\n",
        "print(c)"
      ],
      "metadata": {
        "colab": {
          "base_uri": "https://localhost:8080/"
        },
        "id": "55k0AauXDAvo",
        "outputId": "280fcc4f-0955-43be-bc35-a73e0df17dd1"
      },
      "execution_count": null,
      "outputs": [
        {
          "output_type": "stream",
          "name": "stdout",
          "text": [
            "[[22 31]\n",
            " [35 48]]\n"
          ]
        }
      ]
    },
    {
      "cell_type": "code",
      "source": [
        "print(b1)"
      ],
      "metadata": {
        "colab": {
          "base_uri": "https://localhost:8080/"
        },
        "id": "v5Xs2UdWElTg",
        "outputId": "9e6cf221-091c-4fd3-95cd-c1966d3e76a0"
      },
      "execution_count": null,
      "outputs": [
        {
          "output_type": "stream",
          "name": "stdout",
          "text": [
            "[[1 2 3]\n",
            " [2 3 4]]\n"
          ]
        }
      ]
    },
    {
      "cell_type": "code",
      "source": [
        "print(b2)"
      ],
      "metadata": {
        "colab": {
          "base_uri": "https://localhost:8080/"
        },
        "id": "Drm47BqtEwUa",
        "outputId": "a44b4902-4437-4dcf-e3a7-22c2f7cda1ed"
      },
      "execution_count": null,
      "outputs": [
        {
          "output_type": "stream",
          "name": "stdout",
          "text": [
            "[[5 6]\n",
            " [7 8]\n",
            " [1 3]]\n"
          ]
        }
      ]
    }
  ]
}